{
 "cells": [
  {
   "cell_type": "code",
   "execution_count": 2,
   "id": "33776add-47cf-4cd6-95b2-fb56516db72c",
   "metadata": {},
   "outputs": [
    {
     "ename": "ModuleNotFoundError",
     "evalue": "No module named 'requests'",
     "output_type": "error",
     "traceback": [
      "\u001b[1;31m---------------------------------------------------------------------------\u001b[0m",
      "\u001b[1;31mModuleNotFoundError\u001b[0m                       Traceback (most recent call last)",
      "Cell \u001b[1;32mIn[2], line 1\u001b[0m\n\u001b[1;32m----> 1\u001b[0m \u001b[38;5;28;01mimport\u001b[39;00m \u001b[38;5;21;01mrequests\u001b[39;00m\n\u001b[0;32m      3\u001b[0m \u001b[38;5;28;01mfrom\u001b[39;00m \u001b[38;5;21;01mIPython\u001b[39;00m\u001b[38;5;21;01m.\u001b[39;00m\u001b[38;5;21;01mdisplay\u001b[39;00m \u001b[38;5;28;01mimport\u001b[39;00m Image, display\n\u001b[0;32m      6\u001b[0m \u001b[38;5;66;03m# URL to openai the POST request\u001b[39;00m\n",
      "\u001b[1;31mModuleNotFoundError\u001b[0m: No module named 'requests'"
     ]
    }
   ],
   "source": [
    "import requests\n",
    "\n",
    "from IPython.display import Image, display\n",
    "\n",
    "\n",
    "# URL to openai the POST request\n",
    "url = \"https://api.openai.com/v1/images/generations\"\n",
    "\n",
    "json_data = {\n",
    "    \"prompt\": \"Create an image for Davinci as robot.\",\n",
    "    \"n\": 1,\n",
    "    \"size\": \"1024x1024\"\n",
    "  }\n",
    "\n",
    "\n",
    "# Headers with Bearer token.\n",
    "headers = {\n",
    "    \"Content-Type\": \"application/json\",\n",
    "    \"Authorization\": \"<YOUR API KEY>\"\n",
    "}\n",
    "\n",
    "# Send the POST request with headers and JSON data\n",
    "response = requests.post(url, json=json_data, headers=headers)\n",
    "image_url = \"\"\n",
    "\n",
    "# Check the response status code\n",
    "if response.status_code == 200:\n",
    "    print(\"POST request was successful!\")\n",
    "\n",
    "    response_json = response.json()\n",
    "    print(\"Response data TEXT:\", response.text)\n",
    "    \n",
    "    extracted_url = response_json.get('url')\n",
    "    image_url = response_json.get('data')[0].get('url')\n",
    "\n",
    "    # Display the image\n",
    "    display(Image(url=image_url))\n",
    "    \n",
    "else:\n",
    "    print(\"POST request failed with status code:\", response.status_code)\n",
    "    print(\"Error message:\", response.text)\n"
   ]
  }
 ],
 "metadata": {
  "kernelspec": {
   "display_name": "Python 3 (ipykernel)",
   "language": "python",
   "name": "python3"
  },
  "language_info": {
   "codemirror_mode": {
    "name": "ipython",
    "version": 3
   },
   "file_extension": ".py",
   "mimetype": "text/x-python",
   "name": "python",
   "nbconvert_exporter": "python",
   "pygments_lexer": "ipython3",
   "version": "3.11.4"
  }
 },
 "nbformat": 4,
 "nbformat_minor": 5
}
